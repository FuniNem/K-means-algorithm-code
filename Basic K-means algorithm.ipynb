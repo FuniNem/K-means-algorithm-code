{
 "cells": [
  {
   "cell_type": "code",
   "execution_count": 17,
   "id": "12341d86",
   "metadata": {},
   "outputs": [
    {
     "name": "stdout",
     "output_type": "stream",
     "text": [
      "Enter a number: 0.45\n",
      "Enter a number: 0.55\n",
      "Enter a number: 0.7\n",
      "Enter a number: 0.71\n",
      "Enter a number: 0.11\n",
      "Enter a number: 0.67\n"
     ]
    }
   ],
   "source": [
    "#input 6 values to create two dimensional centroids\n",
    "x = [float(input(\"Enter a number: \")) for i in range(6)]"
   ]
  },
  {
   "cell_type": "code",
   "execution_count": null,
   "id": "429a62ab",
   "metadata": {},
   "outputs": [],
   "source": [
    "#example of centroid values\n",
    "\n",
    "# 0.45\n",
    "# 0.55\n",
    "# 0.7  \n",
    "# 0.71\n",
    "# 0.11\n",
    "# 0.67"
   ]
  },
  {
   "cell_type": "code",
   "execution_count": 19,
   "id": "e98bf396",
   "metadata": {},
   "outputs": [
    {
     "data": {
      "text/plain": [
       "[(0.45, 0.55), (0.7, 0.71), (0.11, 0.67)]"
      ]
     },
     "execution_count": 19,
     "metadata": {},
     "output_type": "execute_result"
    }
   ],
   "source": [
    "#print centroids\n",
    "centroids = [(x[0],x[1]),(x[2],x[3]), (x[4],x[5])]\n",
    "centroids"
   ]
  },
  {
   "cell_type": "code",
   "execution_count": 5,
   "id": "5f1fad0c",
   "metadata": {},
   "outputs": [],
   "source": [
    "#dummy 2D dataset\n",
    "\n",
    "dataset = [(0.22, 0.33),(0.45, 0.76),(0.73, 0.39),(0.25, 0.35),\n",
    "           (0.51, 0.69),(0.69, 0.42),(0.41, 0.49),(0.15, 0.29),\n",
    "           (0.81, 0.32),(0.50, 0.88),(0.23, 0.31),(0.77, 0.30),\n",
    "           (0.56, 0.75),(0.11, 0.38),(0.81, 0.33),(0.59, 0.77),\n",
    "           (0.10, 0.89),(0.55, 0.09),(0.75, 0.35),(0.44, 0.55)]"
   ]
  },
  {
   "cell_type": "code",
   "execution_count": 6,
   "id": "ab27cbdc",
   "metadata": {},
   "outputs": [],
   "source": [
    "## Helper functions\n",
    "\n",
    "#### Euclidean distance\n",
    "def eucli_dist(x,mu): \n",
    "    dist = (x[0]- mu[0])**2 + (x[1] - mu[1])**2\n",
    "    return dist**0.5\n",
    "\n",
    "\n",
    "### sum-of-squares error\n",
    "def sse(clusters,centroids):\n",
    "    sum_errors = 0\n",
    "    for i in range(len(clusters)):\n",
    "        centroid = centroids[i]\n",
    "        for j in range(len(clusters[i])):\n",
    "            error = eucli_dist(clusters[i][j], centroid)**2\n",
    "            sum_errors += error\n",
    "            \n",
    "    return sum_errors   \n",
    "\n",
    "    \n",
    "### assign point to cluster\n",
    "def assign_cluster(point,centroids):\n",
    "    k = len(centroids)\n",
    "    dist = []\n",
    "    for j in range(k):\n",
    "        distance = eucli_dist(point,centroids[j])\n",
    "        dist.append(distance)\n",
    "    min_dist = min(dist)\n",
    "    return dist.index(min_dist)\n",
    "\n",
    "def Clusters(k,data):\n",
    "    data_clusters = {}\n",
    "\n",
    "    for j in range(len(data)):\n",
    "        #assign point to cluster\n",
    "        cluster = assign_cluster(data[j],centroids)\n",
    "        data_clusters[tuple(data[j])] = cluster\n",
    "            \n",
    "    clusters = []\n",
    "    for m in range(k):\n",
    "        new_cluster = [key for key, value in data_clusters.items() if value == m]\n",
    "        clusters.append(new_cluster) \n",
    "        \n",
    "    return clusters\n",
    "\n",
    "\n",
    "### update cluster means/centroids    \n",
    "\n",
    "def update_centroids(clusters):\n",
    "\n",
    "    centroids = [[]]*3\n",
    "    \n",
    "    l = len(clusters)\n",
    "    \n",
    "    for i in range(l):\n",
    "        N = len(clusters[i])\n",
    "        mean_x = sum([col1[0] for col1 in clusters[i]])/N\n",
    "        mean_y = sum([col2[1] for col2 in clusters[i]])/N\n",
    "        \n",
    "        centroids[i] = (mean_x,mean_y)\n",
    "      \n",
    "    return centroids\n",
    "  "
   ]
  },
  {
   "cell_type": "code",
   "execution_count": 7,
   "id": "dce15d22",
   "metadata": {},
   "outputs": [
    {
     "name": "stdout",
     "output_type": "stream",
     "text": [
      "1.7593\n"
     ]
    }
   ],
   "source": [
    "#k-means algorithm\n",
    "\n",
    "#first iteration\n",
    "\n",
    "clusters = Clusters(3,dataset)\n",
    "SSE = sse(clusters,centroids)    \n",
    "print(\"%.4f\" %SSE)\n",
    "                 "
   ]
  },
  {
   "cell_type": "code",
   "execution_count": 8,
   "id": "34e97ac5",
   "metadata": {},
   "outputs": [
    {
     "name": "stdout",
     "output_type": "stream",
     "text": [
      "1.1987\n"
     ]
    }
   ],
   "source": [
    "#second iteration\n",
    "\n",
    "### #update centroids\n",
    "centroids = update_centroids(clusters)\n",
    "### assign points to new clusters\n",
    "my_clusters = Clusters(3,dataset)\n",
    "SSE = sse(my_clusters,centroids)    \n",
    "print(\"%.4f\" %SSE)"
   ]
  },
  {
   "cell_type": "code",
   "execution_count": 20,
   "id": "0bb754c2",
   "metadata": {},
   "outputs": [],
   "source": [
    "#### for multiple iterations\n",
    "\n",
    "\n",
    "def k_means_alg(k,N,data,centroids):\n",
    "    '''k is the number of clusters\n",
    "     N is the number of iterations\n",
    "     data is the dataset to be used for clustering\n",
    "     centroids are the cluster centres'''\n",
    "    \n",
    "    for i in range(N):\n",
    "        ### assign points to clusters\n",
    "        Cluster = Clusters(k,dataset)\n",
    "        \n",
    "        #calculate the sse\n",
    "        SSE = sse(clusters,centroids)  \n",
    "        print(\"%.4f\" %SSE)\n",
    "        \n",
    "        ### #update centroids\n",
    "        centroids = update_centroids(Cluster)\n",
    "     \n",
    "    "
   ]
  }
 ],
 "metadata": {
  "kernelspec": {
   "display_name": "Python 3 (ipykernel)",
   "language": "python",
   "name": "python3"
  },
  "language_info": {
   "codemirror_mode": {
    "name": "ipython",
    "version": 3
   },
   "file_extension": ".py",
   "mimetype": "text/x-python",
   "name": "python",
   "nbconvert_exporter": "python",
   "pygments_lexer": "ipython3",
   "version": "3.9.13"
  }
 },
 "nbformat": 4,
 "nbformat_minor": 5
}
